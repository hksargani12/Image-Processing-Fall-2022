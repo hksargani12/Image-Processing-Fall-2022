{
  "nbformat": 4,
  "nbformat_minor": 0,
  "metadata": {
    "colab": {
      "provenance": [],
      "toc_visible": true
    },
    "kernelspec": {
      "name": "python3",
      "display_name": "Python 3"
    },
    "language_info": {
      "name": "python"
    }
  },
  "cells": [
    {
      "cell_type": "code",
      "execution_count": 3,
      "metadata": {
        "id": "3N4Enuriwc-3"
      },
      "outputs": [],
      "source": [
        "import numpy as np\n",
        "import matplotlib.pyplot as plt\n",
        "import cv2\n",
        "import tensorflow as tf\n",
        "import scipy\n",
        "from keras.preprocessing.image import ImageDataGenerator\n",
        "from keras.layers import Input\n",
        "from keras.models import Model\n",
        "from keras.layers import Conv2D, MaxPooling2D, Dense\n"
      ]
    },
    {
      "cell_type": "markdown",
      "source": [
        "## Load the dataset "
      ],
      "metadata": {
        "id": "LZYtgJK6xFsG"
      }
    },
    {
      "cell_type": "code",
      "source": [
        "!git clone https://github.com/amir-saniyan/HodaDatasetReader.git"
      ],
      "metadata": {
        "id": "qLtoLNzYxKKe",
        "colab": {
          "base_uri": "https://localhost:8080/"
        },
        "outputId": "7e4775b0-d8f1-4b6f-862a-80956729464e"
      },
      "execution_count": 4,
      "outputs": [
        {
          "output_type": "stream",
          "name": "stdout",
          "text": [
            "fatal: destination path 'HodaDatasetReader' already exists and is not an empty directory.\n"
          ]
        }
      ]
    },
    {
      "cell_type": "code",
      "source": [
        "from HodaDatasetReader.HodaDatasetReader import read_hoda_dataset\n",
        "train_images, train_labels = read_hoda_dataset('./HodaDatasetReader/DigitDB/Train 60000.cdb',images_height=32, images_width=32, one_hot=True, reshape=False)\n",
        "test_images, test_labels = read_hoda_dataset('./HodaDatasetReader/DigitDB/Test 20000.cdb' ,images_height=32, images_width=32, one_hot=True, reshape=False)\n"
      ],
      "metadata": {
        "id": "6AKqQuL-xy1P"
      },
      "execution_count": 5,
      "outputs": []
    },
    {
      "cell_type": "code",
      "source": [
        "figure = plt.figure(figsize=(8, 8))\n",
        "figure.add_subplot(3, 3, 1)\n",
        "for i in range(1, 10):\n",
        "    sample_img , sample_lbl = train_images[i], np.argmax(train_labels[i])\n",
        "    figure.add_subplot(3, 3, i)\n",
        "    plt.title(sample_lbl)\n",
        "    plt.axis(\"off\")\n",
        "    plt.imshow(sample_img[:,:,0],  cmap=\"gray\")\n",
        "plt.show()"
      ],
      "metadata": {
        "id": "9wNbSFAyyBb1",
        "colab": {
          "base_uri": "https://localhost:8080/",
          "height": 537
        },
        "outputId": "90762c3d-ac03-4e97-bfd2-74c3141ff3cf"
      },
      "execution_count": 4,
      "outputs": [
        {
          "output_type": "stream",
          "name": "stderr",
          "text": [
            "<ipython-input-4-5db87576d8f8>:5: MatplotlibDeprecationWarning: Adding an axes using the same arguments as a previous axes currently reuses the earlier instance.  In a future version, a new instance will always be created and returned.  Meanwhile, this warning can be suppressed, and the future behavior ensured, by passing a unique label to each axes instance.\n",
            "  figure.add_subplot(3, 3, i)\n"
          ]
        },
        {
          "output_type": "display_data",
          "data": {
            "text/plain": [
              "<Figure size 576x576 with 9 Axes>"
            ],
            "image/png": "[encoded data removed]"
          },
          "metadata": {
            "needs_background": "light"
          }
        }
      ]
    },
    {
      "cell_type": "markdown",
      "source": [
        "# Build the model"
      ],
      "metadata": {
        "id": "XuxDcN9v0BpL"
      }
    },
    {
      "cell_type": "code",
      "source": [
        "class MyModel(tf.keras.Model):\n",
        "  def __init__(self):\n",
        "    \n",
        "    # Call the superclass constructor\n",
        "    super().__init__()\n",
        "    \n",
        "    #define your network layers here\n",
        "    self.conv1 = tf.keras.layers.Conv2D(32, 3, activation='relu', input_shape=(32, 32, 1))\n",
        "    \n",
        "    # Add a max pooling layer with pool size 2\n",
        "    self.maxpool1 = tf.keras.layers.MaxPooling2D(2)\n",
        "    self.conv2 = tf.keras.layers.Conv2D(64, 3, activation='relu')\n",
        "    \n",
        "    # Add a max pooling layer with pool size 2\n",
        "    self.maxpool2 = tf.keras.layers.MaxPooling2D(2)\n",
        "    \n",
        "    # Flatten the output of the convolutional layers\n",
        "    self.flatten = tf.keras.layers.Flatten()\n",
        "    self.dense1 = tf.keras.layers.Dense(128, activation='relu')\n",
        "    \n",
        "    # Add a dense layer with 10 units and a softmax activation function\n",
        "    self.dense2 = tf.keras.layers.Dense(10, activation='softmax')\n",
        "    \n",
        "  def call(self, inputs, training=False):\n",
        "    #pass forward the inputs the return the output\n",
        "    \n",
        "    # Pass the input through the convolutional layers and max pooling layers\n",
        "    x = self.conv1(inputs)\n",
        "    x = self.maxpool1(x)\n",
        "    x = self.conv2(x)\n",
        "    x = self.maxpool2(x)\n",
        "    \n",
        "    # Flatten the output of the convolutional layers\n",
        "    x = self.flatten(x)\n",
        "    \n",
        "    # Pass the output through the dense layers\n",
        "    x = self.dense1(x)\n",
        "    \n",
        "    # return output\n",
        "    return self.dense2(x)\n"
      ],
      "metadata": {
        "id": "O_P6jugO1urK"
      },
      "execution_count": 7,
      "outputs": []
    },
    {
      "cell_type": "code",
      "source": [
        "model = MyModel()\n",
        "model.build(input_shape=(None, 32,32,1))\n",
        "model.summary()"
      ],
      "metadata": {
        "id": "0b36VxQA54Q9",
        "colab": {
          "base_uri": "https://localhost:8080/"
        },
        "outputId": "4cd6b3f0-de75-4125-8483-7f7065c3ec1b"
      },
      "execution_count": 8,
      "outputs": [
        {
          "output_type": "stream",
          "name": "stdout",
          "text": [
            "Model: \"my_model\"\n",
            "_________________________________________________________________\n",
            " Layer (type)                Output Shape              Param #   \n",
            "=================================================================\n",
            " conv2d (Conv2D)             multiple                  320       \n",
            "                                                                 \n",
            " max_pooling2d (MaxPooling2D  multiple                 0         \n",
            " )                                                               \n",
            "                                                                 \n",
            " conv2d_1 (Conv2D)           multiple                  18496     \n",
            "                                                                 \n",
            " max_pooling2d_1 (MaxPooling  multiple                 0         \n",
            " 2D)                                                             \n",
            "                                                                 \n",
            " flatten (Flatten)           multiple                  0         \n",
            "                                                                 \n",
            " dense (Dense)               multiple                  295040    \n",
            "                                                                 \n",
            " dense_1 (Dense)             multiple                  1290      \n",
            "                                                                 \n",
            "=================================================================\n",
            "Total params: 315,146\n",
            "Trainable params: 315,146\n",
            "Non-trainable params: 0\n",
            "_________________________________________________________________\n"
          ]
        }
      ]
    },
    {
      "cell_type": "markdown",
      "source": [
        "# Now compile and fit the model "
      ],
      "metadata": {
        "id": "obvGbmWk_ljK"
      }
    },
    {
      "cell_type": "code",
      "source": [
        "model.compile(optimizer='Adam', loss='categorical_crossentropy', metrics=['accuracy'])\n"
      ],
      "metadata": {
        "id": "d5ztFvZh-wkO"
      },
      "execution_count": 9,
      "outputs": []
    },
    {
      "cell_type": "code",
      "source": [
        "model.fit(x=train_images, y=train_labels, validation_split=0.1, batch_size=64, epochs=5, shuffle=True)"
      ],
      "metadata": {
        "id": "DleNczKE-3FK",
        "colab": {
          "base_uri": "https://localhost:8080/"
        },
        "outputId": "3eaf96bb-435d-4821-896f-57e5f48df6a6"
      },
      "execution_count": 10,
      "outputs": [
        {
          "output_type": "stream",
          "name": "stdout",
          "text": [
            "Epoch 1/5\n",
            "844/844 [==============================] - 62s 72ms/step - loss: 0.0988 - accuracy: 0.9708 - val_loss: 0.0346 - val_accuracy: 0.9900\n",
            "Epoch 2/5\n",
            "844/844 [==============================] - 60s 72ms/step - loss: 0.0255 - accuracy: 0.9922 - val_loss: 0.0280 - val_accuracy: 0.9910\n",
            "Epoch 3/5\n",
            "844/844 [==============================] - 59s 70ms/step - loss: 0.0160 - accuracy: 0.9947 - val_loss: 0.0324 - val_accuracy: 0.9898\n",
            "Epoch 4/5\n",
            "844/844 [==============================] - 70s 83ms/step - loss: 0.0107 - accuracy: 0.9962 - val_loss: 0.0321 - val_accuracy: 0.9917\n",
            "Epoch 5/5\n",
            "844/844 [==============================] - 59s 70ms/step - loss: 0.0077 - accuracy: 0.9973 - val_loss: 0.0265 - val_accuracy: 0.9927\n"
          ]
        },
        {
          "output_type": "execute_result",
          "data": {
            "text/plain": [
              "<keras.callbacks.History at 0x7f3df9ddf520>"
            ]
          },
          "metadata": {},
          "execution_count": 10
        }
      ]
    },
    {
      "cell_type": "markdown",
      "source": [
        "# Now, lets test the model"
      ],
      "metadata": {
        "id": "qnAm2GxkCEj8"
      }
    },
    {
      "cell_type": "markdown",
      "source": [
        "test your model with the test data"
      ],
      "metadata": {
        "id": "9ZfoohxjCZ9V"
      }
    },
    {
      "cell_type": "code",
      "source": [
        "# Load the image using cv2.imread\n",
        "image0 = cv2.imread('image0.jpg')\n",
        "image1 = cv2.imread('image1.jpg')\n",
        "image2 = cv2.imread('image2.jpg')\n",
        "image3 = cv2.imread('image3.jpg')\n",
        "image4 = cv2.imread('image4.jpg')\n",
        "image5 = cv2.imread('image5.jpg')\n",
        "image6 = cv2.imread('image6.jpg')\n",
        "image7 = cv2.imread('image7.jpg')\n",
        "image8 = cv2.imread('image8.jpg')\n",
        "image9 = cv2.imread('image9.jpg')\n",
        "\n",
        "# Assign the images to the test_images variable\n",
        "test_images = [image0, image1, image2, image3, image4, image5, image6, image7, image8, image9]"
      ],
      "metadata": {
        "id": "xM1hAbWzEHD3"
      },
      "execution_count": 11,
      "outputs": []
    },
    {
      "cell_type": "code",
      "source": [
        "def preprocess_images(images):\n",
        "  # Convert the images to grayscale\n",
        "  images = tf.image.rgb_to_grayscale(images)\n",
        "  # Normalize the pixel values\n",
        "  images = tf.image.per_image_standardization(images)\n",
        "  # Resize the images to a uniform size\n",
        "  images = tf.image.resize(images, (32, 32))\n",
        "  return images\n"
      ],
      "metadata": {
        "id": "l3OpEHxeF4Z5"
      },
      "execution_count": 12,
      "outputs": []
    },
    {
      "cell_type": "code",
      "source": [
        "# Preprocess the test images\n",
        "x_test = preprocess_images(tf.convert_to_tensor(test_images))"
      ],
      "metadata": {
        "id": "0MMKNgknF5S5"
      },
      "execution_count": 13,
      "outputs": []
    },
    {
      "cell_type": "code",
      "source": [
        "# Make predictions on the test images\n",
        "predictions = model.predict(x_test)\n",
        "\n",
        "# Convert the predictions to a list of predicted classes\n",
        "predicted_classes = np.argmax(predictions, axis=1)\n"
      ],
      "metadata": {
        "colab": {
          "base_uri": "https://localhost:8080/"
        },
        "id": "PNfr2IZuGGZP",
        "outputId": "a2ee3b67-b9f4-4601-f184-2c2c3c7fa53f"
      },
      "execution_count": 14,
      "outputs": [
        {
          "output_type": "stream",
          "name": "stdout",
          "text": [
            "1/1 [==============================] - 0s 111ms/step\n"
          ]
        }
      ]
    },
    {
      "cell_type": "code",
      "source": [
        "# Set the figure size\n",
        "plt.figure(figsize=(15,10))\n",
        "\n",
        "# Loop over the test images and their predictions\n",
        "for i, (image, prediction) in enumerate(zip(test_images, predicted_classes)):\n",
        "  # Determine the predicted class\n",
        "  predicted_class = prediction\n",
        "\n",
        "  # Convert the image to a NumPy array\n",
        "  image = np.array(image)\n",
        "\n",
        "  # Plot the image and the prediction\n",
        "  plt.subplot(2, 5, i+1)\n",
        "  plt.imshow(image, cmap='gray')\n",
        "  plt.title(\"Predicted: {}\".format(predicted_class))\n",
        "  plt.axis('off')\n",
        "\n",
        "# Show the plot\n",
        "plt.show()\n"
      ],
      "metadata": {
        "colab": {
          "base_uri": "https://localhost:8080/",
          "height": 560
        },
        "id": "CLlLwt97L3CZ",
        "outputId": "57d5f837-57b8-4e01-a4ee-f8f1dd033ca6"
      },
      "execution_count": 15,
      "outputs": [
        {
          "output_type": "display_data",
          "data": {
            "text/plain": [
              "<Figure size 1080x720 with 10 Axes>"
            ],
            "image/png": "[encoded data removed]"
          },
          "metadata": {
            "needs_background": "light"
          }
        }
      ]
    },
    {
      "cell_type": "markdown",
      "source": [
        "# Spatial Transformer"
      ],
      "metadata": {
        "id": "Tl6i9p_LTM2M"
      }
    },
    {
      "cell_type": "code",
      "source": [
        "class SpatialTransformerCNN:\n",
        "  def __init__(self, input_x, input_y, num_classes):\n",
        "    # Save the input tensors\n",
        "    self.input_x = input_x\n",
        "    self.input_y = input_y\n",
        "\n",
        "    # Create the spatial transformer layers\n",
        "    st1 = tf.keras.layers.Conv2D(16, 3, activation='relu', name='st1')(self.input_x)\n",
        "    st2 = tf.keras.layers.Conv2D(16, 3, activation='relu', name='st2')(st1)\n",
        "    st3 = tf.keras.layers.Conv2D(2, 3, activation='relu', name='st3')(st2)\n",
        "    self.st_output = st3\n",
        "\n",
        "    # Compute the transformation matrix\n",
        "    self.transform_matrix = self.st_output[:,:,:,:2]\n",
        "    self.transform_matrix = tf.reshape(self.transform_matrix, (-1, 2, 2))\n",
        "\n",
        "    # Apply the transformation\n",
        "    # Scale the image\n",
        "    scale = self.transform_matrix[:,0,0]\n",
        "    scaled_input = tf.image.resize(self.input_x, size=tf.cast(tf.shape(self.input_x)[1:3] * scale, tf.int32))\n",
        "\n",
        "    # Rotate the image\n",
        "    angle = tf.atan2(self.transform_matrix[:,1,0], self.transform_matrix[:,1,1])\n",
        "    rotated_input = tf.image.rotate(scaled_input, angles=angle)\n",
        "\n",
        "    # Flatten the transformed input and feed it into a fully connected layer\n",
        "    flat = tf.keras.layers.Flatten()(rotated_input)\n",
        "    fc1 = tf.keras.layers.Dense(512, activation='relu')(flat)\n",
        "    self.logits = tf.keras.layers.Dense(num_classes)(fc1)\n",
        "\n",
        "    # Compute the loss and accuracy\n",
        "    self.loss = tf.reduce_mean(tf.nn.softmax_cross_entropy_with_logits_v2(logits=self.logits, labels=self.input_y))\n",
        "    self.optimizer = tf.train.AdamOptimizer(learning_rate=0.001)\n",
        "    self.train_op = self.optimizer.minimize(self.loss)\n",
        "    self.predictions = tf.argmax(self.logits, 1)\n",
        "    correct_predictions = tf.equal(self.predictions, tf.argmax(self.input_y, 1))\n",
        "    self.accuracy = tf.reduce_mean(tf.cast(correct_predictions, tf.float32))"
      ],
      "metadata": {
        "id": "gSrlueWCoa6U"
      },
      "execution_count": 8,
      "outputs": []
    },
    {
      "cell_type": "code",
      "source": [
        "# Create the SpatialTransformerCNN model\n",
        "num_classes = train_labels.shape[1]\n",
        "model = SpatialTransformerCNN(train_images, train_labels, num_classes)"
      ],
      "metadata": {
        "id": "sALDO2uZ4hoG"
      },
      "execution_count": null,
      "outputs": []
    },
    {
      "cell_type": "code",
      "source": [
        "# Loop over the number of training epochs\n",
        "num_epochs = 10\n",
        "for epoch in range(num_epochs):\n",
        "  # Shuffle the training data\n",
        "  indices = np.random.permutation(train_images.shape[0])\n",
        "  train_images = train_images[indices]\n",
        "  train_labels = train_labels[indices]\n",
        "\n",
        "  # Loop over the training batches\n",
        "  for i in range(0, train_images.shape[0], 64):\n",
        "    # Get the training batch\n",
        "    batch_x = train_images[i:i+64]\n",
        "    batch_y = train_labels[i:i+64]\n",
        "\n",
        "    # Train the model on the batch\n",
        "    _, loss, accuracy = model.sess.run([model.train_op, model.loss, model.accuracy], feed_dict={input_x: batch_x, input_y: batch_y})\n",
        "\n",
        "  # Print the loss and accuracy for the epoch\n",
        "  print('Epoch {}: loss = {}, accuracy = {}'.format(epoch, loss, accuracy))\n",
        "\n",
        "# Test the model on the test data\n",
        "accuracy = model.sess.run(model.accuracy, feed_dict={input_x: test_images, input_y: test_labels})\n",
        "print('Test accuracy: {}'.format(accuracy))\n",
        "\n",
        "# Close the tensorflow session\n",
        "model.close()"
      ],
      "metadata": {
        "id": "4MVFIwRCwD4P"
      },
      "execution_count": null,
      "outputs": []
    },
    {
      "cell_type": "code",
      "source": [],
      "metadata": {
        "id": "BHx-_C-CpDA_"
      },
      "execution_count": null,
      "outputs": []
    },
    {
      "cell_type": "code",
      "source": [],
      "metadata": {
        "id": "_HA7jvySo-I_"
      },
      "execution_count": null,
      "outputs": []
    }
  ]
}