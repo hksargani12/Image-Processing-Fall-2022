{
  "nbformat": 4,
  "nbformat_minor": 0,
  "metadata": {
    "colab": {
      "provenance": [],
      "toc_visible": true
    },
    "kernelspec": {
      "name": "python3",
      "display_name": "Python 3"
    },
    "language_info": {
      "name": "python"
    }
  },
  "cells": [
    {
      "cell_type": "code",
      "execution_count": 3,
      "metadata": {
        "id": "yoAcPudav3Wm"
      },
      "outputs": [],
      "source": [
        "import numpy as np\n",
        "import cv2\n",
        "from google.colab.patches import cv2_imshow\n",
        "import matplotlib.pyplot as plt\n",
        "from skimage import measure\n"
      ]
    },
    {
      "cell_type": "markdown",
      "source": [
        "# Section 1"
      ],
      "metadata": {
        "id": "l0DtGVNX8Edg"
      }
    },
    {
      "cell_type": "code",
      "source": [
        "def deconvolution_wiener(src: np.ndarray, psf: np.ndarray, K: np.float64) -> np.ndarray:\n",
        "  deconvoled = np.zeros_like(src)\n",
        "  # ...\n",
        "  return deconvoled"
      ],
      "metadata": {
        "id": "JmbrwLFu8kcO"
      },
      "execution_count": 4,
      "outputs": []
    },
    {
      "cell_type": "markdown",
      "source": [
        "Load and test the image"
      ],
      "metadata": {
        "id": "6s-7rsMM7ZKa"
      }
    },
    {
      "cell_type": "code",
      "source": [
        "img_1 = cv2.imread(\"HW_7_3_1.jpg\", cv2.IMREAD_GRAYSCALE)\n",
        "psf_1  = cv2.imread(\"HW_7_3_psf_1.jpg\", cv2.IMREAD_GRAYSCALE)"
      ],
      "metadata": {
        "id": "3f3MU-357O5r"
      },
      "execution_count": 5,
      "outputs": []
    },
    {
      "cell_type": "code",
      "source": [
        "deblurred_img = deconvolution_wiener(img_1, psf_1, K=0)"
      ],
      "metadata": {
        "id": "1xkuS0mh8gxf"
      },
      "execution_count": 7,
      "outputs": []
    },
    {
      "cell_type": "code",
      "source": [
        "display = [img_1, psf_1, deblurred_img]\n",
        "label = ['Bluerd Image', 'psf', 'wiener Filter applied']\n",
        "fig = plt.figure(figsize=(15, 10))\n",
        "for i in range(len(display)):\n",
        "    fig.add_subplot(1, 3, i+1)\n",
        "    plt.imshow(display[i], cmap = 'gray')\n",
        "    plt.title(label[i])\n",
        "plt.show()"
      ],
      "metadata": {
        "id": "sGCCon0A-22Q"
      },
      "execution_count": null,
      "outputs": []
    },
    {
      "cell_type": "markdown",
      "source": [
        "#Section 2"
      ],
      "metadata": {
        "id": "7I0x6fQ5l9dW"
      }
    },
    {
      "cell_type": "markdown",
      "source": [
        "Meterics:"
      ],
      "metadata": {
        "id": "WVX8scGjstpN"
      }
    },
    {
      "cell_type": "code",
      "source": [
        "def ssim(image_1: np.ndarray, image2: np.ndarray):\n",
        "  pass"
      ],
      "metadata": {
        "id": "xRr9SbVGsr-h"
      },
      "execution_count": null,
      "outputs": []
    },
    {
      "cell_type": "code",
      "source": [
        "img_base = cv2.imread(\"HW_7_3_base.jpg\", cv2.IMREAD_GRAYSCALE)\n"
      ],
      "metadata": {
        "id": "1MDi6NMztKJU"
      },
      "execution_count": null,
      "outputs": []
    },
    {
      "cell_type": "markdown",
      "source": [
        "Now try multiple K and compare them to the original image"
      ],
      "metadata": {
        "id": "RwE2r_7ftSc5"
      }
    },
    {
      "cell_type": "code",
      "source": [],
      "metadata": {
        "id": "j0ghkCPatkmF"
      },
      "execution_count": null,
      "outputs": []
    },
    {
      "cell_type": "markdown",
      "source": [
        "# Section 3 (Bonus)"
      ],
      "metadata": {
        "id": "mJctRkWqtvJ8"
      }
    },
    {
      "cell_type": "code",
      "source": [],
      "metadata": {
        "id": "2qI_pd5DuAeE"
      },
      "execution_count": null,
      "outputs": []
    }
  ]
}