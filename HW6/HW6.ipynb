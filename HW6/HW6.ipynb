{
  "cells": [
    {
      "cell_type": "markdown",
      "metadata": {},
      "source": [
        "complete the code wherever we used #----start       #----end"
      ]
    },
    {
      "cell_type": "code",
      "execution_count": 1,
      "metadata": {
        "id": "5TH5KqhDg3iR"
      },
      "outputs": [],
      "source": [
        "import numpy as np\n",
        "import cv2 as cv\n",
        "import matplotlib.pyplot as plt\n",
        "import scipy.fftpack as fftpack\n",
        "import scipy\n",
        "import skimage"
      ]
    },
    {
      "cell_type": "markdown",
      "metadata": {
        "id": "Ow7sHY9Eg3iU"
      },
      "source": [
        "Part A"
      ]
    },
    {
      "cell_type": "code",
      "execution_count": 2,
      "metadata": {
        "colab": {
          "base_uri": "https://localhost:8080/"
        },
        "id": "sLE9lGEDg3iV",
        "outputId": "50677360-c82c-4199-f15f-18a3a01d7e37"
      },
      "outputs": [
        {
          "data": {
            "text/plain": [
              "(8, 8)"
            ]
          },
          "execution_count": 2,
          "metadata": {},
          "output_type": "execute_result"
        }
      ],
      "source": [
        "# here we got an image with size of 8*8 #\n",
        "imagee =np.array([[ 33.90241005,  30.54775832,  27.97959216,  29.41620856,\n",
        "         33.24129806,  35.02424581,  32.94586615,  29.93754577],\n",
        "       [ 34.69138758,  42.05585559,  50.00845073,  52.39975944,\n",
        "         49.87770263,  47.92905119,  49.74401583,  52.76852369],\n",
        "       [ 31.77462629,  49.6598556 ,  69.28626278,  75.85118649,\n",
        "         70.55222279,  66.14976936,  70.26596303,  77.1838152 ],\n",
        "       [ 28.6068495 ,  47.44677111,  71.24679329,  85.75392986,\n",
        "         88.52192546,  87.37539338,  89.03778505,  92.22403802],\n",
        "       [ 32.34196256,  44.83473787,  65.85785317,  88.43194903,\n",
        "        105.17498572, 112.09541293, 110.98089772, 107.82000439],\n",
        "       [ 38.13783369,  46.89900981,  65.4683231 ,  91.29834031,\n",
        "        116.1083363 , 130.97097637, 134.03007616, 131.82387514],\n",
        "       [ 35.16966279,  47.82418321,  68.69472555,  92.07094076,\n",
        "        114.10402987, 133.14028493, 147.87319677, 156.18775704],\n",
        "       [ 26.92228824,  45.6096369 ,  70.37352354,  90.01813956,\n",
        "        105.70408236, 125.69502973, 150.94870287, 169.98238288]])\n",
        "imagee.shape"
      ]
    },
    {
      "cell_type": "code",
      "execution_count": 3,
      "metadata": {
        "id": "n_ezRS_ag3iW"
      },
      "outputs": [],
      "source": [
        "# Matrix Quantization #\n",
        "Z = np.array([[16,11,10,16,24,40,51,61],\n",
        "              [12,12,14,19,26,58,60,55],\n",
        "              [14,13,16,24,40,57,69,56],\n",
        "              [14,17,22,29,51,87,80,62],\n",
        "              [18,22,37,56,68,109,103,77],\n",
        "              [24,35,55,64,81,104,113,92],\n",
        "              [49,64,78,87,103,121,120,101],\n",
        "              [72,92,95,98,112,100,130,99]])"
      ]
    },
    {
      "cell_type": "code",
      "execution_count": 4,
      "metadata": {
        "id": "HeJBCYmsg3iX"
      },
      "outputs": [],
      "source": [
        "# zigzag for generating vector from matrix and vice versa #\n",
        "zigzag = [   \n",
        "      [0, 1, 5, 6, 14, 15, 27, 28],\n",
        "      [2, 4, 7, 13, 16, 26, 29, 42],\n",
        "      [3, 8, 12, 17, 25, 30, 41, 43],\n",
        "      [9, 11, 18, 24, 31, 40, 44, 53],\n",
        "      [10, 19, 23, 32, 39, 45, 52, 54],\n",
        "      [20, 22, 33, 38, 46, 51, 55, 60],\n",
        "      [21, 34, 37, 47, 50, 56, 59, 61],\n",
        "      [35, 36, 48, 49, 57, 58, 62, 63],\n",
        "  ]"
      ]
    },
    {
      "cell_type": "code",
      "execution_count": 5,
      "metadata": {
        "id": "CZImM3bsg3iX"
      },
      "outputs": [],
      "source": [
        "#### in this cell, show us the image in grayscale ####\n",
        "#----start\n",
        "def imshoww(image):\n",
        "  plt.imshow(image,cmap='gray', vmin=0, vmax=255)\n",
        "#----end"
      ]
    },
    {
      "cell_type": "code",
      "execution_count": 6,
      "metadata": {},
      "outputs": [
        {
          "data": {
            "image/png": "[encoded data removed]",
            "text/plain": [
              "<Figure size 432x288 with 1 Axes>"
            ]
          },
          "metadata": {
            "needs_background": "light"
          },
          "output_type": "display_data"
        }
      ],
      "source": [
        "imshoww(imagee)"
      ]
    },
    {
      "cell_type": "code",
      "execution_count": 7,
      "metadata": {
        "id": "Fh52wqhrg3iY"
      },
      "outputs": [],
      "source": [
        "#### Define JPEG compression Function #####\n",
        "def jpeg_compression(image,Z):\n",
        "    #----start\n",
        "    im = image - 128\n",
        "    T = scipy.fftpack.dct(im,norm='ortho',axis = 0)\n",
        "    T_dot = scipy.fftpack.dct(T,norm='ortho',axis = 1)\n",
        "    T_hat = np.round(T_dot/Z)\n",
        "    #----end\n",
        "    return T_hat"
      ]
    },
    {
      "cell_type": "code",
      "execution_count": 8,
      "metadata": {
        "id": "k_vkxZFlg3iY"
      },
      "outputs": [],
      "source": [
        "jpeg_matrix = jpeg_compression(imagee,Z)"
      ]
    },
    {
      "cell_type": "code",
      "execution_count": 9,
      "metadata": {
        "id": "2ExM17Ybg3iZ"
      },
      "outputs": [],
      "source": [
        "\"\"\"change the jpeg_matrix to a vector, like \n",
        "a = [-27, -17, -15, -3, 11, -4, -1, 0, 0, -1, -1, 0, 2, 0, 0, 0, 0, 0, 0, 0, 0, 0, 0, 0, 1, 'EOB']\"\"\"\n",
        "####define a mat_2_vec function####\n",
        "def mat_2_vec(jpeg_matrix,zigzag):\n",
        "    #----start\n",
        "    vec = np.zeros((jpeg_matrix.shape[0]*jpeg_matrix.shape[1]))\n",
        "    for i in range(jpeg_matrix.shape[0]):\n",
        "        for j in range(jpeg_matrix.shape[1]):\n",
        "            index = zigzag[i][j]\n",
        "            vec[index] = jpeg_matrix[i,j]\n",
        "    vec = np.trim_zeros(vec,\"b\")\n",
        "    vec = vec.tolist()\n",
        "    vec.append(\"EOB\")\n",
        "\n",
        "    #----end\n",
        "    return vec"
      ]
    },
    {
      "cell_type": "code",
      "execution_count": 10,
      "metadata": {
        "id": "hjhHgsNrg3iZ"
      },
      "outputs": [],
      "source": [
        "vec = mat_2_vec(jpeg_matrix,zigzag)"
      ]
    },
    {
      "cell_type": "markdown",
      "metadata": {
        "id": "z9nR89fwg3iZ"
      },
      "source": [
        "Part B"
      ]
    },
    {
      "cell_type": "code",
      "execution_count": 11,
      "metadata": {
        "colab": {
          "base_uri": "https://localhost:8080/"
        },
        "id": "9UH_5qs8g3iZ",
        "outputId": "06d470d9-7d51-4661-8d50-3944d73368d3"
      },
      "outputs": [
        {
          "data": {
            "text/plain": [
              "array(['-27.0', '-17.0', '-15.0', '-3.0', '11.0', '-4.0', '-1.0', '-0.0',\n",
              "       '-0.0', '-1.0', '-1.0', '0.0', '2.0', '0.0', '0.0', '0.0', '0.0',\n",
              "       '-0.0', '0.0', '0.0', '-0.0', '-0.0', '-0.0', '-0.0', '1.0', 'EOB'],\n",
              "      dtype='<U32')"
            ]
          },
          "execution_count": 11,
          "metadata": {},
          "output_type": "execute_result"
        }
      ],
      "source": [
        "#### in this cell,show the vector we got in part A ###\n",
        "#start\n",
        "vect = np.array(vec)\n",
        "vect\n",
        "#End"
      ]
    },
    {
      "cell_type": "code",
      "execution_count": 12,
      "metadata": {
        "id": "iqeDjLtKg3ia"
      },
      "outputs": [],
      "source": [
        "####define a vec_2_mat function####\n",
        "def vector_to_matrix(vector1):\n",
        "  #----start\n",
        "  vector = [0] * 64\n",
        "  vector[0:len(vec)-1] = vector1[0:len(vec)-1]\n",
        "  zigzag = [   \n",
        "      [0, 1, 5, 6, 14, 15, 27, 28],\n",
        "      [2, 4, 7, 13, 16, 26, 29, 42],\n",
        "      [3, 8, 12, 17, 25, 30, 41, 43],\n",
        "      [9, 11, 18, 24, 31, 40, 44, 53],\n",
        "      [10, 19, 23, 32, 39, 45, 52, 54],\n",
        "      [20, 22, 33, 38, 46, 51, 55, 60],\n",
        "      [21, 34, 37, 47, 50, 56, 59, 61],\n",
        "      [35, 36, 48, 49, 57, 58, 62, 63],\n",
        "  ]\n",
        "  for i in range(8):\n",
        "    for j in range(8):\n",
        "      zigzag[i][j] = vector[zigzag[i][j]]\n",
        "  \n",
        "  return zigzag\n"
      ]
    },
    {
      "cell_type": "code",
      "execution_count": 13,
      "metadata": {
        "id": "3gJmXq7Hg3ia"
      },
      "outputs": [],
      "source": [
        "#### Define JPEG Decompression Function #####\n",
        "def jpeg_decompress(T_hat, Z):\n",
        "  #----start\n",
        "  # Please set norm='ortho' in Discrete Cosine Transform Function in fftpack\n",
        "  # you can use scipy.fftpack for dct and idct\n",
        "  T_dot = np.multiply(T_hat,Z)\n",
        "  T = scipy.fftpack.idct(T_dot,norm='ortho',axis = 1)\n",
        "  T = scipy.fftpack.idct(T,norm='ortho',axis = 0)\n",
        "  T = np.array(T)\n",
        "  T = T + 128\n",
        "  # Please set norm='ortho' in Discrete Cosine Transform Function in fftpack\n",
        " \n",
        "  return T\n",
        "  #----end"
      ]
    },
    {
      "cell_type": "code",
      "execution_count": 14,
      "metadata": {
        "id": "0bVAZcPyg3ia"
      },
      "outputs": [
        {
          "data": {
            "image/png": "[encoded data removed]",
            "text/plain": [
              "<Figure size 432x288 with 1 Axes>"
            ]
          },
          "metadata": {
            "needs_background": "light"
          },
          "output_type": "display_data"
        }
      ],
      "source": [
        "####  Decompress Vector the vector and show the image  ####\n",
        "T_hat = vector_to_matrix(vec)\n",
        "image= jpeg_decompress(T_hat, Z)\n",
        "imshoww(image)"
      ]
    },
    {
      "cell_type": "markdown",
      "metadata": {
        "id": "PwoZp6eHg3ia"
      },
      "source": [
        "Part C"
      ]
    },
    {
      "cell_type": "code",
      "execution_count": 15,
      "metadata": {
        "id": "cbbtJ0G5g3ib"
      },
      "outputs": [
        {
          "name": "stdout",
          "output_type": "stream",
          "text": [
            "9.05436937965006e-18 218.59621722740644 1.0000000000000002\n"
          ]
        }
      ],
      "source": [
        "''' in this cell,caculate 3 following metrics using our original image(first cell of part A) and\n",
        " our final image in part B(last cell of part B)'''\n",
        "#----start\n",
        "\n",
        "mse = skimage.metrics.mean_squared_error(image,imagee)\n",
        "PSNR = skimage.metrics.peak_signal_noise_ratio(imagee, image,data_range=256)\n",
        "SSIM = skimage.metrics.structural_similarity(imagee, image)\n",
        "####print them all####\n",
        "print(mse,PSNR,SSIM)\n",
        "#----end"
      ]
    }
  ],
  "metadata": {
    "colab": {
      "collapsed_sections": [],
      "provenance": []
    },
    "kernelspec": {
      "display_name": "Python 3.9.7 64-bit (system)",
      "language": "python",
      "name": "python3"
    },
    "language_info": {
      "codemirror_mode": {
        "name": "ipython",
        "version": 3
      },
      "file_extension": ".py",
      "mimetype": "text/x-python",
      "name": "python",
      "nbconvert_exporter": "python",
      "pygments_lexer": "ipython3",
      "version": "3.9.7"
    },
    "orig_nbformat": 4,
    "vscode": {
      "interpreter": {
        "hash": "511be68a78ff8fee53b9c9a11f00516cad3a2400f90d8d8686e4031404823731"
      }
    }
  },
  "nbformat": 4,
  "nbformat_minor": 0
}
